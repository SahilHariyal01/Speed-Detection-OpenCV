{
 "cells": [
  {
   "cell_type": "code",
   "execution_count": null,
   "metadata": {},
   "outputs": [],
   "source": [
    "import cv2\n",
    "import time\n",
    "cascade_src = 'dataset/cars1.xml'\n",
    "video_src = 'dataset/cars_on_highway (1080p).mp4'\n",
    "#line a\n",
    "ax1=70\n",
    "ay=90\n",
    "ax2=230\n",
    "#line b\n",
    "bx1=15\n",
    "by=125\n",
    "bx2=225\n",
    "#car num\n",
    "i = 1\n",
    "start_time = time.time()\n",
    "#video ....\n",
    "cap = cv2.VideoCapture(video_src)\n",
    "car_cascade = cv2.CascadeClassifier(cascade_src)   "
   ]
  },
  {
   "cell_type": "code",
   "execution_count": null,
   "metadata": {},
   "outputs": [],
   "source": [
    "def Speed_Cal(time):\n",
    "    \n",
    "    try:\n",
    "        Speed = (9.144*3600)/(time*1000)\n",
    "        return Speed\n",
    "    except ZeroDivisionError:\n",
    "        print (5)"
   ]
  },
  {
   "cell_type": "code",
   "execution_count": null,
   "metadata": {},
   "outputs": [],
   "source": [
    "while True:\n",
    "    ret, img = cap.read()\n",
    "    if (type(img) == type(None)):\n",
    "        break\n",
    "    #bluring to have exacter detection\n",
    "    blurred = cv2.blur(img,ksize=(15,15))\n",
    "    gray = cv2.cvtColor(blurred, cv2.COLOR_BGR2GRAY)\n",
    "    cars = car_cascade.detectMultiScale(gray, 1.1, 2)\n",
    "    \n",
    "    #line a #i know road has got \n",
    "    cv2.line(img,(ax1,ay),(ax2,ay),(255,0,0),2)\n",
    "    #line b\n",
    "    cv2.line(img,(bx1,by),(bx2,by),(255,0,0),2)\n",
    "    \n",
    "    for (x,y,w,h) in cars:\n",
    "        cv2.rectangle(img,(x,y),(x+w,y+h),(0,0,255),2)   \n",
    "        cv2.circle(img,(int((x+x+w)/2),int((y+y+h)/2)),1,(0,255,0),-1)\n",
    "        \n",
    "        while int(ay) == int((y+y+h)/2):\n",
    "            start_time = time.time()\n",
    "            break\n",
    "            \n",
    "        while int(ay) <= int((y+y+h)/2):\n",
    "            if int(by) <= int((y+y+h)/2)&int(by+10) >= int((y+y+h)/2):\n",
    "                cv2.line(img,(bx1,by),(bx2,by),(0,255,0),2)\n",
    "                Speed = Speed_Cal(time.time() - start_time)\n",
    "                print(\"Car Number \"+str(i)+\" Speed: \"+str(Speed))\n",
    "                i = i + 1\n",
    "                cv2.putText(img, \"Speed: \"+str(Speed)+\"KM/H\", (x,y-15), cv2.FONT_HERSHEY_SIMPLEX, 1, (255,0,0),3);\n",
    "                break\n",
    "            else :\n",
    "                cv2.putText(img, \"Calcuting\", (100,200), cv2.FONT_HERSHEY_SIMPLEX, 1,(0,255,0),3)\n",
    "                break\n",
    "                \n",
    "                \n",
    "    cv2.imshow('video', img)\n",
    "    \n",
    "    if cv2.waitKey(33) == 27:\n",
    "        break\n",
    "\n",
    "cv2.destroyAllWindows()"
   ]
  },
  {
   "cell_type": "code",
   "execution_count": null,
   "metadata": {},
   "outputs": [],
   "source": []
  }
 ],
 "metadata": {
  "kernelspec": {
   "display_name": "Python 3",
   "language": "python",
   "name": "python3"
  },
  "language_info": {
   "codemirror_mode": {
    "name": "ipython",
    "version": 3
   },
   "file_extension": ".py",
   "mimetype": "text/x-python",
   "name": "python",
   "nbconvert_exporter": "python",
   "pygments_lexer": "ipython3",
   "version": "undefined.undefined.undefined"
  }
 },
 "nbformat": 4,
 "nbformat_minor": 2
}
